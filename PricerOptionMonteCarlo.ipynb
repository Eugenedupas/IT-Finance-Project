{
 "cells": [
  {
   "cell_type": "code",
   "execution_count": 1,
   "id": "9241c93b-b9fb-4722-a27f-9615aa9a5642",
   "metadata": {},
   "outputs": [],
   "source": [
    "#Pricer une europeenne option avec la méthode de monte carlo et volatilité constante\n",
    "#stocks are said to follow geometric brownian motion\n",
    "#Assume that the stock price S in questions pays annual dividend qand has an expected return μ equal to the risk-free rate r - q , the volatility σ is assumed to be constant. \n",
    "#pas de dividendes"
   ]
  },
  {
   "cell_type": "code",
   "execution_count": 42,
   "id": "f31d4870-300f-4fd1-a2ae-b12ccb363256",
   "metadata": {},
   "outputs": [],
   "source": [
    "import yfinance as yf\n",
    "import random as rd\n",
    "import numpy as np\n",
    "import datetime as dt\n",
    "from scipy.stats import norm\n"
   ]
  },
  {
   "cell_type": "code",
   "execution_count": 3,
   "id": "11636e5f-4c84-43b9-913e-b4c230127d25",
   "metadata": {},
   "outputs": [
    {
     "name": "stderr",
     "output_type": "stream",
     "text": [
      "[*********************100%%**********************]  1 of 1 completed\n"
     ]
    }
   ],
   "source": [
    "start= \"2024-05-01\"\n",
    "end= dt.datetime.now()\n",
    "stock = yf.download(\"GOLD\", start, end)\n",
    "stock_adj = stock[\"Adj Close\"]\n"
   ]
  },
  {
   "cell_type": "code",
   "execution_count": 53,
   "id": "cec078ba-849e-4dc1-8755-d4607daf576a",
   "metadata": {},
   "outputs": [
    {
     "data": {
      "text/plain": [
       "16.46619987487793"
      ]
     },
     "execution_count": 53,
     "metadata": {},
     "output_type": "execute_result"
    }
   ],
   "source": [
    "S0= stock_adj.iloc[-1] #Prix à T0\n",
    "K = S0  #Strike\n",
    "T = 1      # Time until maturity\n",
    "r = 0.0275   # rf\n",
    "sigma = 0.2  # Volatilité (voir si historique ou prendre midèle dynamique \n",
    "N = 100000  # Nombre de simulations\n",
    "S0"
   ]
  },
  {
   "cell_type": "code",
   "execution_count": 49,
   "id": "e3e1052e-0430-4661-b451-c9a6ff74e711",
   "metadata": {},
   "outputs": [],
   "source": [
    "Z = np.random.randn(N) #Loie normale (0,1)\n"
   ]
  },
  {
   "cell_type": "code",
   "execution_count": 50,
   "id": "73dc625a-9363-42e6-8269-92b9ec9dd801",
   "metadata": {},
   "outputs": [
    {
     "data": {
      "text/plain": [
       "array([16.24218978, 11.45237578, 16.73178426, ..., 14.89688369,\n",
       "       14.6184333 , 16.61240642])"
      ]
     },
     "execution_count": 50,
     "metadata": {},
     "output_type": "execute_result"
    }
   ],
   "source": [
    "ST = S0 * np.exp((r - 0.5 * sigma**2) * T + sigma * np.sqrt(T) * Z) #actif suit un mouvement brownien\n",
    "ST"
   ]
  },
  {
   "cell_type": "code",
   "execution_count": 51,
   "id": "e7ee6a88-769b-47e1-aaab-c6f94361ba7b",
   "metadata": {},
   "outputs": [
    {
     "data": {
      "text/plain": [
       "array([0., 0., 0., ..., 0., 0., 0.])"
      ]
     },
     "execution_count": 51,
     "metadata": {},
     "output_type": "execute_result"
    }
   ],
   "source": [
    "payoff = np.maximum(ST-K,0)\n",
    "payoff"
   ]
  },
  {
   "cell_type": "code",
   "execution_count": 52,
   "id": "557108ed-0af7-4ac3-9b7b-fc065874cbe1",
   "metadata": {},
   "outputs": [
    {
     "data": {
      "text/plain": [
       "0.4448105992862886"
      ]
     },
     "execution_count": 52,
     "metadata": {},
     "output_type": "execute_result"
    }
   ],
   "source": [
    "#Monte-Carlo result\n",
    "call_price = np.exp(-r * T) * np.mean(payoff)\n",
    "call_price"
   ]
  },
  {
   "cell_type": "code",
   "execution_count": 48,
   "id": "a7d937e9-a542-4cb4-a017-eb4635f57920",
   "metadata": {},
   "outputs": [
    {
     "name": "stdout",
     "output_type": "stream",
     "text": [
      "0.3544262258300259\n"
     ]
    }
   ],
   "source": [
    "#Black and Schole result\n",
    "q=0\n",
    "type = \"Call\"\n",
    "def black_scholes(S, K, T, r, q, sigma, type):\n",
    "    d1 = (np.log(S/K) + (r/100 - q + (sigma**2)/2))*T/(sigma*np.sqrt(T))\n",
    "    d2 = d1 - sigma*np.sqrt(T)\n",
    "    if type == \"Call\":\n",
    "        return S*np.exp(-q*T)*norm.cdf(d1)-K*np.exp(-r*T/100)*norm.cdf(d2)\n",
    "    if type == \"Put\":\n",
    "        return K*np.exp(-r*T/100)*norm.cdf(-d2)-S*np.exp(-q*T)*norm.cdf(-d1)       \n",
    "print(black_scholes(S0,K,T,r,q,sigma,type))"
   ]
  },
  {
   "cell_type": "code",
   "execution_count": null,
   "id": "8e2e5d9a-a88b-4997-84d8-217de597568b",
   "metadata": {},
   "outputs": [],
   "source": []
  }
 ],
 "metadata": {
  "kernelspec": {
   "display_name": "Python 3 (ipykernel)",
   "language": "python",
   "name": "python3"
  },
  "language_info": {
   "codemirror_mode": {
    "name": "ipython",
    "version": 3
   },
   "file_extension": ".py",
   "mimetype": "text/x-python",
   "name": "python",
   "nbconvert_exporter": "python",
   "pygments_lexer": "ipython3",
   "version": "3.11.7"
  }
 },
 "nbformat": 4,
 "nbformat_minor": 5
}
