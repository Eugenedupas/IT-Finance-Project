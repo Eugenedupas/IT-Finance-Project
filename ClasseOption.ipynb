{
 "cells": [
  {
   "cell_type": "code",
   "execution_count": 17,
   "id": "9dc7c0eb-f976-4104-9ca3-dd4fa6026ab9",
   "metadata": {},
   "outputs": [],
   "source": [
    "import yfinance as yf\n",
    "import datetime as dt\n",
    "import numpy as np\n",
    "from scipy.stats import norm\n",
    "import pandas as pd\n",
    "import matplotlib.pyplot as plt"
   ]
  },
  {
   "cell_type": "code",
   "execution_count": 4,
   "id": "f52881e0-6787-4208-90eb-d9b9643e6966",
   "metadata": {},
   "outputs": [
    {
     "name": "stdout",
     "output_type": "stream",
     "text": [
      "YF.download() has changed argument auto_adjust default to True\n"
     ]
    },
    {
     "name": "stderr",
     "output_type": "stream",
     "text": [
      "[*********************100%***********************]  1 of 1 completed\n"
     ]
    }
   ],
   "source": [
    "start = \"2024-05-01\"\n",
    "end = dt.datetime.now()\n",
    "stock = yf.download(\"AAPL\", start, end)\n",
    "stock_adj = stock[\"Close\"]"
   ]
  },
  {
   "cell_type": "code",
   "execution_count": 5,
   "id": "cd22efb3-554d-42cd-8578-551460fa7489",
   "metadata": {},
   "outputs": [
    {
     "name": "stderr",
     "output_type": "stream",
     "text": [
      "[*********************100%***********************]  1 of 1 completed\n"
     ]
    }
   ],
   "source": [
    "r = yf.download(\"^TNX\", start, end)[\"Close\"].iloc[-1].item()/100\n",
    "#q = yf.Ticker(\"AAPL\").info.get(\"dividendYield\")\n",
    "#sigma = stock_adj.pct_change().std()*np.sqrt(252)\n"
   ]
  },
  {
   "cell_type": "code",
   "execution_count": 29,
   "id": "c8535ab6-bd4c-430b-8d3c-68a1fb6a44c0",
   "metadata": {},
   "outputs": [],
   "source": [
    "class Option:\n",
    "    def __init__(self, ticker, K, T, type, T0):\n",
    "        self.ticker = ticker\n",
    "        self.K = K\n",
    "        self.T = T\n",
    "        self.type = type\n",
    "        self.T0 = T0\n",
    "        self.Moneyness()\n",
    "        self.BS()\n",
    "        self.Payoff()\n",
    "        self.Tracer\n",
    "\n",
    "    def __repr__(self):\n",
    "        return self.type + \" Option on \" + self.ticker + \" at Maturity \" + str(self.T) + \" year \" + \"and strike price \" + str(self.K)\n",
    "\n",
    "    def Moneyness(self):\n",
    "        if self.type == \"call\":\n",
    "            if stock_adj.loc[self.T0].item() > self.K:\n",
    "                return \"ITM\"\n",
    "            if stock_adj.loc[self.T0].item() == self.K:\n",
    "                return \"ATM\"\n",
    "            if stock_adj.loc[self.T0].item() < self.K:\n",
    "                return \"OTM\"\n",
    "        if self.type == \"put\":\n",
    "            if stock_adj.loc[self.T0].item() > self.K:\n",
    "                return \"OTM\"\n",
    "            if stock_adj.loc[self.T0].item() == self.K:\n",
    "                return \"ATM\"\n",
    "            if stock_adj.loc[self.T0].item() < self.K:\n",
    "                return \"ITM\"\n",
    "\n",
    "    def Payoff(self):\n",
    "        S = stock_adj.iloc[-1].item()\n",
    "        if self.type == \"call\":\n",
    "            return max(S - self.K, 0)\n",
    "        if self.type == \"put\":\n",
    "            return max(self.K - S, 0)\n",
    "               \n",
    "\n",
    "    def BS(self):\n",
    "        q = yf.Ticker(self.ticker).info.get(\"dividendYield\")/100\n",
    "        sigma = yf.download(self.ticker, start, end)[\"Close\"].pct_change().std()*np.sqrt(252)\n",
    "        S0 = stock_adj.loc[self.T0].item()\n",
    "        d1 = (np.log(S0/self.K) + (r - q + (1/2)*sigma**2))*self.T/(sigma*np.sqrt(self.T))\n",
    "        d2 = d1 - sigma*np.sqrt(self.T)\n",
    "        if self.type == \"call\":\n",
    "            return (S0*np.exp(-q*self.T)*norm.cdf(d1) - self.K*np.exp(-r*self.T)*norm.cdf(d2))[0]\n",
    "        if self.type == \"put\":\n",
    "            return (self.K*np.exp(-r*self.T)*norm.cdf(-d2) - S0*np.exp(-q*self.T)*norm.cdf(-d1))[0]\n",
    "            \n",
    "    def Tracer(self):\n",
    "        C = self.BS()\n",
    "        A = np.arange(0,3,0.01)\n",
    "        if self.type == \"call\":\n",
    "            G = [ (i*self.K - self.K - C if i > 1 else -C) for i in A]\n",
    "        if self.type == \"put\":\n",
    "            G = [ (self.K -i*self.K - C if i < 1 else -C) for i in A]\n",
    "        plt.title('P/L Option')\n",
    "        plt.plot(A,G)\n",
    "        plt.xlabel('Percentage Increase')\n",
    "        plt.ylabel('P/L')\n",
    "        plt.grid(True)\n",
    "        plt.show()\n",
    "\n",
    "\n",
    "            "
   ]
  },
  {
   "cell_type": "code",
   "execution_count": 30,
   "id": "f9f0ab26-bb95-4c96-b4d6-48d5d68a87c5",
   "metadata": {},
   "outputs": [
    {
     "name": "stderr",
     "output_type": "stream",
     "text": [
      "[*********************100%***********************]  1 of 1 completed\n"
     ]
    },
    {
     "data": {
      "text/plain": [
       "call Option on AAPL at Maturity 1 year and strike price 209"
      ]
     },
     "execution_count": 30,
     "metadata": {},
     "output_type": "execute_result"
    }
   ],
   "source": [
    "test = Option(\"AAPL\", 209, 1, \"call\", \"2025-03-13\")\n",
    "test\n"
   ]
  }
 ],
 "metadata": {
  "kernelspec": {
   "display_name": "Python 3 (ipykernel)",
   "language": "python",
   "name": "python3"
  },
  "language_info": {
   "codemirror_mode": {
    "name": "ipython",
    "version": 3
   },
   "file_extension": ".py",
   "mimetype": "text/x-python",
   "name": "python",
   "nbconvert_exporter": "python",
   "pygments_lexer": "ipython3",
   "version": "3.11.7"
  }
 },
 "nbformat": 4,
 "nbformat_minor": 5
}
