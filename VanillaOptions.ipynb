{
 "cells": [
  {
   "cell_type": "code",
   "execution_count": 1,
   "id": "ab68ac74-f0f9-425b-8255-e605712f09ee",
   "metadata": {},
   "outputs": [],
   "source": [
    "#Pricer une Option avec la formule de Black&Scholes"
   ]
  },
  {
   "cell_type": "code",
   "execution_count": 2,
   "id": "3c6d5fad-bdaf-44ed-90e4-618cee091155",
   "metadata": {},
   "outputs": [],
   "source": [
    "import yfinance as yf\n",
    "import datetime as dt\n",
    "import numpy as np\n",
    "from scipy.stats import norm\n",
    "from scipy.optimize import brentq\n",
    "import matplotlib.pyplot as plt\n",
    "import ipywidgets as widgets\n",
    "from IPython.display import display\n"
   ]
  },
  {
   "cell_type": "code",
   "execution_count": 3,
   "id": "92c415cc-e0a4-4dd1-b575-7979de3dc623",
   "metadata": {},
   "outputs": [
    {
     "name": "stdout",
     "output_type": "stream",
     "text": [
      "YF.download() has changed argument auto_adjust default to True\n"
     ]
    },
    {
     "name": "stderr",
     "output_type": "stream",
     "text": [
      "[*********************100%***********************]  1 of 1 completed\n"
     ]
    }
   ],
   "source": [
    "#Stock\n",
    "start= \"2024-05-01\"\n",
    "end= dt.datetime.now()\n",
    "stock = yf.download(\"GOLD\", start, end)\n",
    "stock_adj = stock[\"Close\"]"
   ]
  },
  {
   "cell_type": "code",
   "execution_count": 4,
   "id": "aaca36e0-50bf-4706-b0d9-7dd68d0161d8",
   "metadata": {},
   "outputs": [
    {
     "data": {
      "text/plain": [
       "Ticker\n",
       "GOLD    18.27\n",
       "Name: 2025-02-24 00:00:00, dtype: float64"
      ]
     },
     "execution_count": 4,
     "metadata": {},
     "output_type": "execute_result"
    }
   ],
   "source": [
    "#Paramètres\n",
    "S0= stock_adj.iloc[-1] #Prix à T0\n",
    "K = S0    #Strike\n",
    "T = 1      # Time until maturity\n",
    "type = \"Call\"\n",
    "r = 2.75 #yf.download(\"^TNX\", start, end)[\"Adj Close\"].iloc[-1]\n",
    "q = 0 # yf.Ticker(\"AAPL\").info.get(\"dividendYield\")\n",
    "sigma = 0.15\n",
    "S0"
   ]
  },
  {
   "cell_type": "code",
   "execution_count": 5,
   "id": "10fec006-7011-4f2f-a381-d8bde6d183d7",
   "metadata": {},
   "outputs": [],
   "source": [
    "#Find the implied volatility ?"
   ]
  },
  {
   "cell_type": "code",
   "execution_count": 19,
   "id": "5139f2a1-f1ea-4bf8-9c6f-9420f8eec47a",
   "metadata": {},
   "outputs": [
    {
     "data": {
      "text/plain": [
       "1.343274406190842"
      ]
     },
     "execution_count": 19,
     "metadata": {},
     "output_type": "execute_result"
    }
   ],
   "source": [
    "#Formule de Black&Scholes\n",
    "#Aller dans Options Yahoo Finance ou sur internet\n",
    "def black_scholes(S, K, T, r, q, sigma, type):\n",
    "    d1 = (np.log(S/K) + (r/100 - q + (sigma**2)/2))*T/(sigma*np.sqrt(T))\n",
    "    d2 = d1 - sigma*np.sqrt(T)\n",
    "    if type == \"Call\":\n",
    "        return S*np.exp(-q*T)*norm.cdf(d1)-K*np.exp(-r*T/100)*norm.cdf(d2)\n",
    "    if type == \"Put\":\n",
    "        return K*np.exp(-r*T/100)*norm.cdf(-d2)-S*np.exp(-q*T)*norm.cdf(-d1)       \n",
    "black_scholes(S0,K,T,r,q,sigma,type).item()"
   ]
  },
  {
   "cell_type": "code",
   "execution_count": 73,
   "id": "17f0d389-c67d-461f-bf0a-392d720a7d10",
   "metadata": {},
   "outputs": [
    {
     "data": {
      "application/vnd.jupyter.widget-view+json": {
       "model_id": "dff7c0af0c404fcfb8ea07408e48f072",
       "version_major": 2,
       "version_minor": 0
      },
      "text/plain": [
       "FloatSlider(value=18.270000457763672, description='Strike K', max=50.0, min=5.0, step=1.0)"
      ]
     },
     "metadata": {},
     "output_type": "display_data"
    },
    {
     "data": {
      "application/vnd.jupyter.widget-view+json": {
       "model_id": "ca30846f0c9b4f1f8e0d3e6a298cdd19",
       "version_major": 2,
       "version_minor": 0
      },
      "text/plain": [
       "FloatSlider(value=1.0, description='Maturité T', max=2.0, min=0.1)"
      ]
     },
     "metadata": {},
     "output_type": "display_data"
    },
    {
     "data": {
      "application/vnd.jupyter.widget-view+json": {
       "model_id": "7c5ca232e2e8420ca466c1ce175679f7",
       "version_major": 2,
       "version_minor": 0
      },
      "text/plain": [
       "FloatSlider(value=0.05, description='Taux r', max=0.1, step=0.01)"
      ]
     },
     "metadata": {},
     "output_type": "display_data"
    },
    {
     "data": {
      "application/vnd.jupyter.widget-view+json": {
       "model_id": "c83af1440a184044baf9e1d45ba2d0c9",
       "version_major": 2,
       "version_minor": 0
      },
      "text/plain": [
       "FloatSlider(value=0.02, description='Dividende q', max=0.1, step=0.01)"
      ]
     },
     "metadata": {},
     "output_type": "display_data"
    },
    {
     "data": {
      "application/vnd.jupyter.widget-view+json": {
       "model_id": "d8adb70cd45a4144a8467cb20152c561",
       "version_major": 2,
       "version_minor": 0
      },
      "text/plain": [
       "FloatSlider(value=0.2, description='Volatilité σ', max=1.0, min=0.1, step=0.05)"
      ]
     },
     "metadata": {},
     "output_type": "display_data"
    },
    {
     "data": {
      "application/vnd.jupyter.widget-view+json": {
       "model_id": "3ba47909a40a45ea8cbf2803a6d76fd8",
       "version_major": 2,
       "version_minor": 0
      },
      "text/plain": [
       "ToggleButtons(description=\"Type d'option\", options=('Call', 'Put'), value='Call')"
      ]
     },
     "metadata": {},
     "output_type": "display_data"
    },
    {
     "data": {
      "application/vnd.jupyter.widget-view+json": {
       "model_id": "c9adbdacb5e74c83bf41aad5d0169fcb",
       "version_major": 2,
       "version_minor": 0
      },
      "text/plain": [
       "Output()"
      ]
     },
     "metadata": {},
     "output_type": "display_data"
    }
   ],
   "source": [
    "# Création de la figure\n",
    "output = widgets.Output()\n",
    "\n",
    "# Fonction de mise à jour\n",
    "def update(K, T, r, q, sigma, option_type):\n",
    "    S_values = np.linspace(1, 50, 100)  # Prix du sous-jacent\n",
    "    prices = [black_scholes(S, K, T, r, q, sigma, option_type) for S in S_values]\n",
    "\n",
    "    with output:\n",
    "        clear_output(wait=True)  # Efface l'affichage précédent\n",
    "        fig, ax = plt.subplots(figsize=(6, 4))\n",
    "        ax.plot(S_values, prices, label=f\"Prix de l'option {option_type.capitalize()}\", color=\"b\")\n",
    "        ax.axvline(K, color=\"red\", linestyle=\"--\", label=f\"Strike K={K}\")\n",
    "        ax.set_xlabel(\"Prix du sous-jacent (S)\")\n",
    "        ax.set_ylabel(\"Prix de l'option\")\n",
    "        ax.legend()\n",
    "        ax.grid(True)\n",
    "        plt.show()\n",
    "\n",
    "# Widgets interactifs\n",
    "K_slider = widgets.FloatSlider(min=5, max=50, step=1, value=S0.item(), description=\"Strike K\")\n",
    "T_slider = widgets.FloatSlider(min=0.1, max=2.0, step=0.1, value=1.0, description=\"Maturité T\")\n",
    "r_slider = widgets.FloatSlider(min=0.0, max=0.1, step=0.01, value=0.05, description=\"Taux r\")\n",
    "q_slider = widgets.FloatSlider(min=0.0, max=0.1, step=0.01, value=0.02, description=\"Dividende q\")\n",
    "sigma_slider = widgets.FloatSlider(min=0.1, max=1.0, step=0.05, value=0.2, description=\"Volatilité σ\")\n",
    "option_type_selector = widgets.ToggleButtons(options=[\"Call\", \"Put\"], description=\"Type d'option\")\n",
    "\n",
    "# Création de l'interaction\n",
    "interactive_plot = widgets.interactive(update, \n",
    "                                       K=K_slider, \n",
    "                                       T=T_slider, \n",
    "                                       r=r_slider, \n",
    "                                       q=q_slider, \n",
    "                                       sigma=sigma_slider, \n",
    "                                       option_type=option_type_selector)\n",
    "\n",
    "# Affichage\n",
    "display(K_slider, T_slider, r_slider, q_slider, sigma_slider, option_type_selector, output)\n",
    "\n",
    "# Premier affichage du graphe\n",
    "update(K_slider.value, T_slider.value, r_slider.value, q_slider.value, sigma_slider.value, option_type_selector.value)\n",
    "\n"
   ]
  },
  {
   "cell_type": "code",
   "execution_count": 72,
   "id": "da44de5d-dbc3-419d-9002-72c600147c74",
   "metadata": {},
   "outputs": [
    {
     "data": {
      "application/vnd.jupyter.widget-view+json": {
       "model_id": "76ef31e15c4b4f09b6364ef9233717c1",
       "version_major": 2,
       "version_minor": 0
      },
      "text/plain": [
       "FloatSlider(value=18.270000457763672, description='Strike K', max=50.0, min=1.0, step=0.01)"
      ]
     },
     "metadata": {},
     "output_type": "display_data"
    },
    {
     "data": {
      "application/vnd.jupyter.widget-view+json": {
       "model_id": "cfc1213ec1884e0c83126a8d6d8ed8fd",
       "version_major": 2,
       "version_minor": 0
      },
      "text/plain": [
       "FloatSlider(value=1.0, description='Maturité T', max=2.0, min=0.1)"
      ]
     },
     "metadata": {},
     "output_type": "display_data"
    },
    {
     "data": {
      "application/vnd.jupyter.widget-view+json": {
       "model_id": "22551d3e5e11433ead2bd4bf26e26fb3",
       "version_major": 2,
       "version_minor": 0
      },
      "text/plain": [
       "FloatSlider(value=0.05, description='Taux r', max=0.1, step=0.01)"
      ]
     },
     "metadata": {},
     "output_type": "display_data"
    },
    {
     "data": {
      "application/vnd.jupyter.widget-view+json": {
       "model_id": "57d2b2a3e60840f0960ffdfd1941b151",
       "version_major": 2,
       "version_minor": 0
      },
      "text/plain": [
       "FloatSlider(value=0.02, description='Dividende q', max=0.1, step=0.01)"
      ]
     },
     "metadata": {},
     "output_type": "display_data"
    },
    {
     "data": {
      "application/vnd.jupyter.widget-view+json": {
       "model_id": "9bae3ae1b77d4536b9d2fe481724e8a0",
       "version_major": 2,
       "version_minor": 0
      },
      "text/plain": [
       "FloatSlider(value=0.2, description='Volatilité σ', max=1.0, min=0.1, step=0.05)"
      ]
     },
     "metadata": {},
     "output_type": "display_data"
    },
    {
     "data": {
      "application/vnd.jupyter.widget-view+json": {
       "model_id": "2a360443c75249f5b876d190859baad7",
       "version_major": 2,
       "version_minor": 0
      },
      "text/plain": [
       "ToggleButtons(description=\"Type d'option\", options=('Call', 'Put'), value='Call')"
      ]
     },
     "metadata": {},
     "output_type": "display_data"
    },
    {
     "data": {
      "application/vnd.jupyter.widget-view+json": {
       "model_id": "a30ddcb30b354a9a806b3fc930dbf344",
       "version_major": 2,
       "version_minor": 0
      },
      "text/plain": [
       "Output()"
      ]
     },
     "metadata": {},
     "output_type": "display_data"
    }
   ],
   "source": [
    "output = widgets.Output()\n",
    "\n",
    "\n",
    "def update(K, T, r, q, sigma, option_type):\n",
    "    S_values = np.linspace(1, 50, 100)\n",
    "    C = black_scholes(S0, K, T, r, q, sigma, option_type)\n",
    "\n",
    "    if option_type == \"Call\":\n",
    "        PNL = [ (i - K - C if i > K else -C) for i in S_values]\n",
    "    if option_type == \"Put\":\n",
    "        PNL = [ (K -i - C if i < K else -C) for i in S_values]\n",
    "\n",
    "\n",
    "    with output:\n",
    "        clear_output(wait=True)  # Efface l'affichage précédent\n",
    "        fig, ax = plt.subplots(figsize=(6, 4))\n",
    "        ax.plot(S_values, PNL, label=f\"P/L option {option_type.capitalize()}\", color=\"b\")\n",
    "        ax.axvline(K, color=\"red\", linestyle=\"--\", label=f\"Strike K={K}\")\n",
    "        ax.set_xlabel(\"Prix du sous-jacent (S)\")\n",
    "        ax.set_ylabel(\"P/L\")\n",
    "        ax.legend()\n",
    "        ax.grid(True)\n",
    "        if option_type == \"Call\":\n",
    "                plt.plot(S_values,S_values - S0.item())\n",
    "        if option_type == \"Put\":\n",
    "                plt.plot(S_values,-S_values + S0.item())\n",
    "\n",
    "        plt.show()\n",
    "\n",
    "\n",
    "# Widgets interactifs\n",
    "K_slider = widgets.FloatSlider(min=1, max=50, step = 0.01, value=S0.item(), description=\"Strike K\")\n",
    "T_slider = widgets.FloatSlider(min=0.1, max=2.0, step=0.1, value=1.0, description=\"Maturité T\")\n",
    "r_slider = widgets.FloatSlider(min=0.0, max=0.1, step=0.01, value=0.05, description=\"Taux r\")\n",
    "q_slider = widgets.FloatSlider(min=0.0, max=0.1, step=0.01, value=0.02, description=\"Dividende q\")\n",
    "sigma_slider = widgets.FloatSlider(min=0.1, max=1.0, step=0.05, value=0.2, description=\"Volatilité σ\")\n",
    "option_type_selector = widgets.ToggleButtons(options=[\"Call\", \"Put\"], description=\"Type d'option\")\n",
    "\n",
    "# Création de l'interaction\n",
    "interactive_plot = widgets.interactive(update, \n",
    "                                       K=K_slider, \n",
    "                                       T=T_slider, \n",
    "                                       r=r_slider, \n",
    "                                       q=q_slider, \n",
    "                                       sigma=sigma_slider, \n",
    "                                       option_type=option_type_selector)\n",
    "\n",
    "# Affichage\n",
    "display(K_slider, T_slider, r_slider, q_slider, sigma_slider, option_type_selector, output)\n",
    "\n",
    "# Premier affichage du graphe\n",
    "update(K_slider.value, T_slider.value, r_slider.value, q_slider.value, sigma_slider.value, option_type_selector.value)\n",
    "\n"
   ]
  },
  {
   "cell_type": "code",
   "execution_count": 34,
   "id": "3ad7989e-21a4-48e6-ac37-2f2334acfff7",
   "metadata": {},
   "outputs": [
    {
     "data": {
      "image/png": "[encoded data removed]",
      "text/plain": [
       "<Figure size 640x480 with 1 Axes>"
      ]
     },
     "metadata": {},
     "output_type": "display_data"
    }
   ],
   "source": [
    "#Tracé Value portfolio Call\n",
    "C = black_scholes(S0,K,T,r,q,sigma,type)\n",
    "A = np.arange(0,3,0.01)\n",
    "G = [ (i*K - K - C if i > 1 else -C) for i in A]\n",
    "plt.title('P/L Option')\n",
    "plt.plot(A,G)\n",
    "plt.xlabel('Percentage Increase')\n",
    "plt.ylabel('P/L')\n",
    "plt.grid(True)\n",
    "plt.show()"
   ]
  },
  {
   "cell_type": "code",
   "execution_count": 9,
   "id": "a6727e84-6957-412c-bfaf-734d3df37309",
   "metadata": {},
   "outputs": [
    {
     "data": {
      "image/png": "[encoded data removed]",
      "text/plain": [
       "<Figure size 640x480 with 1 Axes>"
      ]
     },
     "metadata": {},
     "output_type": "display_data"
    }
   ],
   "source": [
    "#Tracé Value portfolio Put\n",
    "C = black_scholes(S0,K,T,r,q,sigma,\"Put\")\n",
    "A = np.arange(0,3,0.01) #S/K\n",
    "G = [ (K -i*K - C if i < 1 else -C) for i in A]\n",
    "plt.title('Gain Option')\n",
    "plt.plot(A,G)\n",
    "plt.xlabel('Percentage Increase')\n",
    "plt.ylabel('Gain')\n",
    "plt.grid(True)\n",
    "plt.show()"
   ]
  }
 ],
 "metadata": {
  "kernelspec": {
   "display_name": "Python 3 (ipykernel)",
   "language": "python",
   "name": "python3"
  },
  "language_info": {
   "codemirror_mode": {
    "name": "ipython",
    "version": 3
   },
   "file_extension": ".py",
   "mimetype": "text/x-python",
   "name": "python",
   "nbconvert_exporter": "python",
   "pygments_lexer": "ipython3",
   "version": "3.11.7"
  }
 },
 "nbformat": 4,
 "nbformat_minor": 5
}
